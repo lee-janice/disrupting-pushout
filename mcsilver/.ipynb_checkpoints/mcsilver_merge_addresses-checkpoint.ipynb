{
 "cells": [
  {
   "cell_type": "code",
   "execution_count": 6,
   "id": "bbb1745e-7df4-4675-8fda-a5d2b557f5ec",
   "metadata": {
    "tags": []
   },
   "outputs": [],
   "source": [
    "import pandas as pd\n",
    "\n",
    "# read in datasets \n",
    "mcsilver_data = pd.read_excel(\"./in/McSilver_NYCProgramExport_10032024.xlsx\")\n",
    "omh_data = pd.read_excel(\"./in/OMH_ProgramDirectory_11082024.xlsx\")\n",
    "oasas_treatment_data = pd.read_csv(\"./in/OASAS_TreatmentPrograms_11082024.csv\")\n",
    "oasas_prevention_data = pd.read_csv(\"./in/OASAS_PreventionPrograms_11082024.csv\")"
   ]
  },
  {
   "cell_type": "markdown",
   "id": "06b9ffb8-c8a3-4479-b30b-35d5691fed3a",
   "metadata": {},
   "source": [
    "# 1. Viewing and exploring data"
   ]
  },
  {
   "cell_type": "code",
   "execution_count": null,
   "id": "0ddeb8e9-62d4-4041-9c86-af3436524e9f",
   "metadata": {
    "tags": []
   },
   "outputs": [],
   "source": [
    "mcsilver_data.head()"
   ]
  },
  {
   "cell_type": "code",
   "execution_count": null,
   "id": "71b519e4-a16d-4c13-8e7c-927ad05a01e9",
   "metadata": {
    "tags": []
   },
   "outputs": [],
   "source": [
    "# we want to merge on omhProgramCode, omhFacilityCode, and OMH/OASAS Agency Code\n",
    "mcsilver_data.info()"
   ]
  },
  {
   "cell_type": "code",
   "execution_count": null,
   "id": "c863b331-5725-4300-905a-e38672fcf519",
   "metadata": {
    "tags": []
   },
   "outputs": [],
   "source": [
    "omh_data.head()"
   ]
  },
  {
   "cell_type": "code",
   "execution_count": null,
   "id": "7ec89e6c-16c0-496d-b86f-162ef953952e",
   "metadata": {
    "tags": []
   },
   "outputs": [],
   "source": [
    "omh_data.info()"
   ]
  },
  {
   "cell_type": "code",
   "execution_count": null,
   "id": "d277a639-d5eb-4a72-9607-46e0dee1fa70",
   "metadata": {
    "tags": []
   },
   "outputs": [],
   "source": [
    "oasas_treatment_data.info() "
   ]
  },
  {
   "cell_type": "code",
   "execution_count": null,
   "id": "e0f74e3c-2508-462a-9b46-5e213e3742e2",
   "metadata": {
    "tags": []
   },
   "outputs": [],
   "source": [
    "oasas_prevention_data.info()"
   ]
  },
  {
   "cell_type": "markdown",
   "id": "4ef2714e-56b4-493f-acbf-3f16ad5ee9ea",
   "metadata": {},
   "source": [
    "# 2. Cleaning data"
   ]
  },
  {
   "cell_type": "code",
   "execution_count": null,
   "id": "0b75ffe9-d500-40ed-860c-8b60be6af520",
   "metadata": {
    "tags": []
   },
   "outputs": [],
   "source": [
    "# rename columns \n",
    "mcsilver_data         = mcsilver_data.rename(columns=lambda x:x.lower().replace(\" \",\"_\"))\n",
    "omh_data              = omh_data.rename(columns=lambda x:x.lower().replace(\" \",\"_\"))\n",
    "oasas_treatment_data  = oasas_treatment_data.rename(columns=lambda x:x.lower().replace(\" \",\"_\"))\n",
    "oasas_prevention_data = oasas_prevention_data.rename(columns=lambda x:x.lower().replace(\" \",\"_\"))\n",
    "\n",
    "# strip all column names \n",
    "mcsilver_data.columns         = mcsilver_data.columns.str.strip() \n",
    "omh_data.columns              = omh_data.columns.str.strip() \n",
    "oasas_treatment_data.columns  = oasas_treatment_data.columns.str.strip() \n",
    "oasas_prevention_data.columns = oasas_prevention_data.columns.str.strip() "
   ]
  },
  {
   "cell_type": "markdown",
   "id": "f082a0cc-974a-4e57-b2f2-9db41ec0d706",
   "metadata": {},
   "source": [
    "# 3. Merging McSilver and OMH data\n",
    "\n",
    "There are 1123/2156 rows in the McSilver dataset that have complete OMH program identification. \n",
    "We were able to match 877 addresses. "
   ]
  },
  {
   "cell_type": "code",
   "execution_count": null,
   "id": "3bfd37a7-12ec-4d0d-a7d3-2cff5aeb1cdf",
   "metadata": {
    "tags": []
   },
   "outputs": [],
   "source": [
    "# subset columns to the ones we care about \n",
    "omh_subset = omh_data[[\"program_address_1\", \"program_address_2\", \n",
    "                       \"program_city\", \"program_state\", \"program_zip\",\n",
    "                       \"agency_code\", \"facility_code\", \"program_code\",  # omhProgramCode, omhFacilityCode, and OMH/OASAS Agency Code\n",
    "                       \"program_type\"]]\n",
    "omh_subset.head()"
   ]
  },
  {
   "cell_type": "code",
   "execution_count": null,
   "id": "6a0285a7-3746-4358-bac4-1b507519d20a",
   "metadata": {
    "tags": []
   },
   "outputs": [],
   "source": [
    "# drop all rows in the McSilver dataset that have any missing keys \n",
    "mcsilver_omh_subset = mcsilver_data.dropna(subset=[\"omhprogramcode\", \"omhfacilitycode\", \"omh/oasas_agency_code\"], how=\"any\")\n",
    "print(mcsilver_omh_subset.shape)"
   ]
  },
  {
   "cell_type": "code",
   "execution_count": null,
   "id": "7a8c4262-c48f-4157-85b1-f46788ce4ee6",
   "metadata": {
    "tags": []
   },
   "outputs": [],
   "source": [
    "# merge datasets \n",
    "mcsilver_omh_merged = mcsilver_omh_subset.merge(omh_subset, \n",
    "                                                left_on=[\"omhprogramcode\", \"omhfacilitycode\", \"omh/oasas_agency_code\"], \n",
    "                                                right_on=[\"program_code\", \"facility_code\", \"agency_code\"], \n",
    "                                                suffixes=(False, False),\n",
    "                                                how=\"left\")\n",
    "print(mcsilver_omh_merged.shape) \n",
    "mcsilver_omh_merged[\"program_address_1\"].isna().sum() # 246 missing addresses, 877 matches\n",
    "\n",
    "# drop extra id variables \n",
    "mcsilver_omh_merged.drop([\"program_code\", \"facility_code\", \"agency_code\"], axis=1, inplace=True)"
   ]
  },
  {
   "cell_type": "markdown",
   "id": "6a239b71-50ff-4c49-9f07-1b5d7320aa48",
   "metadata": {},
   "source": [
    "# 4. Merging McSilver and OASAS data\n",
    "\n",
    "There are 321/2156 rows in the McSilver dataset that have complete OASAS program identification. \n",
    "We were able to match 234 addresses. "
   ]
  },
  {
   "cell_type": "code",
   "execution_count": null,
   "id": "5de5ca62-b41f-4f97-98ea-aa339f718c2b",
   "metadata": {
    "tags": []
   },
   "outputs": [],
   "source": [
    "# stack two OASAS datasets \n",
    "oasas_data = pd.concat([oasas_treatment_data, oasas_prevention_data], axis=0)\n",
    "print(oasas_data.shape)"
   ]
  },
  {
   "cell_type": "code",
   "execution_count": null,
   "id": "952aee9a-af59-4e40-8ff8-3e04223463c6",
   "metadata": {
    "tags": []
   },
   "outputs": [],
   "source": [
    "# subset columns to the ones we care about \n",
    "oasas_subset = oasas_data[[\"provider_number\", \"program_number\", \"service_type\",\n",
    "                           \"program_street_address\", \"program_city\", \"program_county\", \"program_state\", \"program_zip_code\"]]\n",
    "\n",
    "# rename columns to match OMH data \n",
    "oasas_subset = oasas_subset.rename(columns={\"program_street_address\": \"program_address_1\", \n",
    "                                            \"program_zip_code\": \"program_zip\",\n",
    "                                            \"service_type\": \"program_type\"})\n",
    "oasas_subset.head()"
   ]
  },
  {
   "cell_type": "code",
   "execution_count": null,
   "id": "edeaa2ca-64f1-442c-b6c8-1a5a950524a8",
   "metadata": {
    "tags": []
   },
   "outputs": [],
   "source": [
    "# drop all rows in the McSilver dataset that have any missing keys \n",
    "mcsilver_oasas_subset = mcsilver_data.dropna(subset=[\"oasasprogramcode\", \"omh/oasas_agency_code\"], how=\"any\")\n",
    "print(mcsilver_oasas_subset.shape)"
   ]
  },
  {
   "cell_type": "code",
   "execution_count": null,
   "id": "ba39bc7a-5572-4186-92cc-184442afa53e",
   "metadata": {
    "tags": []
   },
   "outputs": [],
   "source": [
    "# merge datasets \n",
    "mcsilver_oasas_merged = mcsilver_oasas_subset.merge(oasas_subset, \n",
    "                                                   left_on=[\"oasasprogramcode\", \"omh/oasas_agency_code\"], \n",
    "                                                   right_on=[\"program_number\", \"provider_number\"], \n",
    "                                                   suffixes=(False, False),\n",
    "                                                   how=\"left\")\n",
    "print(mcsilver_oasas_merged.shape)  \n",
    "mcsilver_oasas_merged[\"program_address_1\"].isna().sum() # 93 missing addresses, 234 matches\n",
    "\n",
    "# drop extra id variables \n",
    "mcsilver_oasas_merged.drop([\"program_number\", \"provider_number\"], axis=1, inplace=True)"
   ]
  },
  {
   "cell_type": "markdown",
   "id": "e12123eb-29f6-4745-a2f6-3e99e35d8795",
   "metadata": {},
   "source": [
    "# 5. Other \n",
    "\n",
    "After doing the initial merge of OMH and OASAS data, we have 877+234 = 1111/2156 address matches. \n",
    "The complete OMH and OASAS data account for 1123+327 = 1450/2156 of the programs in the McSilver data. "
   ]
  },
  {
   "cell_type": "code",
   "execution_count": null,
   "id": "92a06b3d-c795-4810-a0fe-607fec8e0f37",
   "metadata": {
    "tags": []
   },
   "outputs": [],
   "source": [
    "# stack dataframes \n",
    "merged_data = pd.concat([mcsilver_omh_merged, mcsilver_oasas_merged], ignore_index=True, axis=0) \n",
    "\n",
    "# add flag for whether we were able to find the address\n",
    "merged_data[\"matched_address\"] = merged_data[\"program_address_1\"].notna()\n",
    "merged_data[\"matched_address\"].sum()\n",
    "\n",
    "# write file to Excel \n",
    "merged_data.to_excel(\"./out/mcsilver_omh_oasas_address_data.xlsx\")"
   ]
  },
  {
   "cell_type": "code",
   "execution_count": null,
   "id": "c465f943-c894-434e-94a2-98eb4f73c2f3",
   "metadata": {
    "tags": []
   },
   "outputs": [],
   "source": [
    "# get all other rows that we haven't looked at \n",
    "remaining_data = pd.merge(mcsilver_data, merged_data[\"internal_id\"], how=\"left\",indicator=True, on=\"internal_id\")\n",
    "remaining_data = remaining_data[(remaining_data._merge == \"left_only\")]\n",
    "\n",
    "remaining_data.head()\n",
    "\n",
    "# write to file to inspect \n",
    "remaining_data.to_excel(\"./out/remaining_data.xlsx\")"
   ]
  }
 ],
 "metadata": {
  "kernelspec": {
   "display_name": "Python 3 (ipykernel)",
   "language": "python",
   "name": "python3"
  },
  "language_info": {
   "codemirror_mode": {
    "name": "ipython",
    "version": 3
   },
   "file_extension": ".py",
   "mimetype": "text/x-python",
   "name": "python",
   "nbconvert_exporter": "python",
   "pygments_lexer": "ipython3",
   "version": "3.11.3"
  }
 },
 "nbformat": 4,
 "nbformat_minor": 5
}
